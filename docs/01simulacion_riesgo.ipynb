{
 "cells": [
  {
   "cell_type": "markdown",
   "metadata": {},
   "source": [
    "# Simulación y Riesgo\n",
    "\n",
    "Con frecuencia se requiere incorporarla aleatoriedad de forma explícita en los modelos predictivos. Esto se realiza esspecificando distribuciones de probabilidad para las variables de entrada no controlables.\n",
    "\n",
    "Los modelos con estos elementos se denominan *estocásticos*  o *probabilísticos* y pueden  ayudar a  evaluar los riessgos asociados a consecuencias incontrolables, y permiten encontrar soluciones óptimas bajo incertidumbre.\n",
    "\n",
    "> **Riesgo** es la probabilidad de que ocurra un resultado no deseado, y puede ser evaluado a  partir de su probabilidad y la gravedad del resultado.\n",
    "\n",
    "> **El análisis de riesgo** consiste en el desarrollo de una comprensión y una conciencia completas del riesgo asociado con una variable de interés particular."
   ]
  },
  {
   "cell_type": "markdown",
   "metadata": {},
   "source": [
    "## Modelo de decisión de tercerización\n",
    "\n",
    "Se quiere decidir que es más conveniente, si fabricar un artículo, o adquirirlo hecho. Debido al costo fijo, si la demanda es pequeña vale más la pena comprar los productos de un proveedor, a medida que aumenta la demanda llega un punto en que es más conveniente fabricar los productos. Se asume que el volumen de producción es incierto, y que la demanda es una variable aleatoria con distribución de probabilidad normal con $\\mu = 1000$ y $\\sigma = 10$. \n",
    "\n",
    "### Simulación Puntual\n",
    "\n",
    "Vamos a realizar una simulación para un único valor (aleatorio) de la demanda."
   ]
  },
  {
   "cell_type": "code",
   "execution_count": 1,
   "metadata": {},
   "outputs": [
    {
     "name": "stdout",
     "output_type": "stream",
     "text": [
      "Costo Manufactura = 195041.72\n"
     ]
    }
   ],
   "source": [
    "import random\n",
    "\n",
    "costo_fijo = 50000\n",
    "costo_variable = 125\n",
    "volumen_produccion = random.normalvariate(mu=1000, sigma=100)\n",
    "\n",
    "costo_manufactura = costo_fijo + costo_variable * volumen_produccion\n",
    "print(f\"Costo Manufactura = {costo_manufactura:.2f}\")"
   ]
  },
  {
   "cell_type": "code",
   "execution_count": 2,
   "metadata": {},
   "outputs": [
    {
     "name": "stdout",
     "output_type": "stream",
     "text": [
      "Costo Compra = 203058.41\n"
     ]
    }
   ],
   "source": [
    "costo_proveedor = 175\n",
    "costo_compra = costo_proveedor * volumen_produccion\n",
    "print(f\"Costo Compra = {costo_compra:.2f}\")"
   ]
  },
  {
   "cell_type": "code",
   "execution_count": 3,
   "metadata": {},
   "outputs": [
    {
     "name": "stdout",
     "output_type": "stream",
     "text": [
      "Fabricar\n"
     ]
    }
   ],
   "source": [
    "diferencia_costo = costo_manufactura - costo_compra\n",
    "print('Comprar' if diferencia_costo > 0 else 'Fabricar')"
   ]
  },
  {
   "cell_type": "markdown",
   "metadata": {},
   "source": [
    "El punto de equilibrio, es decir, la producción para la que el costo de manufactura y el costo de compra se igualen, sería:\n",
    "\n",
    "\\begin{equation*}\n",
    "K + c_v \\times p = c_p \\times p \\\\\n",
    "p = \\frac{K}{c_p - c_v}\n",
    "\\end{equation*}\n"
   ]
  },
  {
   "cell_type": "code",
   "execution_count": 4,
   "metadata": {},
   "outputs": [
    {
     "name": "stdout",
     "output_type": "stream",
     "text": [
      "Punto de Equilibrio = 1000.00\n"
     ]
    }
   ],
   "source": [
    "equilibrio = costo_fijo / (costo_proveedor - costo_variable)\n",
    "print(f\"Punto de Equilibrio = {equilibrio:.2f}\")"
   ]
  },
  {
   "cell_type": "markdown",
   "metadata": {},
   "source": [
    "Como buen ejemplo de libro, el punto de equilibrio coincide con la media de la demanda.\n",
    "\n",
    "### Generar una tabla de datos con la simulación\n",
    "\n",
    "En el caso anterior, obtuvimos el valor para un caso particular. Pero, necesitamos realizar un número de intentos significativos para poder analizar estadísticamente este modelo. Con esta finalidad generamos un conjunto de valores aleatorios de la demanda, y a partir de esta se construye una tabla que nos muestre los resultados de la simulación."
   ]
  },
  {
   "cell_type": "code",
   "execution_count": 5,
   "metadata": {},
   "outputs": [],
   "source": [
    "import pandas as pd\n",
    "import numpy as np\n",
    "import matplotlib.pyplot as plt"
   ]
  },
  {
   "cell_type": "code",
   "execution_count": 6,
   "metadata": {},
   "outputs": [
    {
     "data": {
      "text/plain": [
       "array([1028.38624878,  831.05960971,  999.88696172, 1028.65595162,\n",
       "       1038.14048292,  984.15659527,  981.01701455, 1001.38730974,\n",
       "       1103.19115692,  936.09733487,  951.12325441, 1045.4618419 ,\n",
       "       1130.66557382,  951.36180987,  846.61063894,  880.40833063,\n",
       "        958.74859033,  943.10191982, 1022.58221132,  837.50537013])"
      ]
     },
     "execution_count": 6,
     "metadata": {},
     "output_type": "execute_result"
    }
   ],
   "source": [
    "demanda = np.random.normal(loc=1000, scale=100, size=20)\n",
    "demanda"
   ]
  },
  {
   "cell_type": "code",
   "execution_count": 7,
   "metadata": {},
   "outputs": [
    {
     "data": {
      "text/plain": [
       "array([-1.41931244e+03,  8.44701951e+03,  5.65191413e+00, -1.43279758e+03,\n",
       "       -1.90702415e+03,  7.92170237e+02,  9.49149273e+02, -6.93654872e+01,\n",
       "       -5.15955785e+03,  3.19513326e+03,  2.44383728e+03, -2.27309210e+03,\n",
       "       -6.53327869e+03,  2.43190951e+03,  7.66946805e+03,  5.97958347e+03,\n",
       "        2.06257048e+03,  2.84490401e+03, -1.12911057e+03,  8.12473149e+03])"
      ]
     },
     "execution_count": 7,
     "metadata": {},
     "output_type": "execute_result"
    }
   ],
   "source": [
    "dif_costo = costo_fijo + (costo_variable - costo_proveedor) * demanda\n",
    "dif_costo"
   ]
  },
  {
   "cell_type": "code",
   "execution_count": 8,
   "metadata": {},
   "outputs": [
    {
     "data": {
      "text/plain": [
       "array(['Fabricar', 'Comprar', 'Comprar', 'Fabricar', 'Fabricar',\n",
       "       'Comprar', 'Comprar', 'Fabricar', 'Fabricar', 'Comprar', 'Comprar',\n",
       "       'Fabricar', 'Fabricar', 'Comprar', 'Comprar', 'Comprar', 'Comprar',\n",
       "       'Comprar', 'Fabricar', 'Comprar'], dtype='<U8')"
      ]
     },
     "execution_count": 8,
     "metadata": {},
     "output_type": "execute_result"
    }
   ],
   "source": [
    "decision = np.where(dif_costo > 0, 'Comprar', 'Fabricar')\n",
    "decision"
   ]
  },
  {
   "cell_type": "code",
   "execution_count": 9,
   "metadata": {},
   "outputs": [
    {
     "data": {
      "text/html": [
       "<div>\n",
       "<style scoped>\n",
       "    .dataframe tbody tr th:only-of-type {\n",
       "        vertical-align: middle;\n",
       "    }\n",
       "\n",
       "    .dataframe tbody tr th {\n",
       "        vertical-align: top;\n",
       "    }\n",
       "\n",
       "    .dataframe thead th {\n",
       "        text-align: right;\n",
       "    }\n",
       "</style>\n",
       "<table border=\"1\" class=\"dataframe\">\n",
       "  <thead>\n",
       "    <tr style=\"text-align: right;\">\n",
       "      <th></th>\n",
       "      <th>demanda</th>\n",
       "      <th>diferencia</th>\n",
       "      <th>decision</th>\n",
       "    </tr>\n",
       "  </thead>\n",
       "  <tbody>\n",
       "    <tr>\n",
       "      <td>0</td>\n",
       "      <td>1028.386249</td>\n",
       "      <td>-1419.312439</td>\n",
       "      <td>Fabricar</td>\n",
       "    </tr>\n",
       "    <tr>\n",
       "      <td>1</td>\n",
       "      <td>831.059610</td>\n",
       "      <td>8447.019514</td>\n",
       "      <td>Comprar</td>\n",
       "    </tr>\n",
       "    <tr>\n",
       "      <td>2</td>\n",
       "      <td>999.886962</td>\n",
       "      <td>5.651914</td>\n",
       "      <td>Comprar</td>\n",
       "    </tr>\n",
       "    <tr>\n",
       "      <td>3</td>\n",
       "      <td>1028.655952</td>\n",
       "      <td>-1432.797581</td>\n",
       "      <td>Fabricar</td>\n",
       "    </tr>\n",
       "    <tr>\n",
       "      <td>4</td>\n",
       "      <td>1038.140483</td>\n",
       "      <td>-1907.024146</td>\n",
       "      <td>Fabricar</td>\n",
       "    </tr>\n",
       "    <tr>\n",
       "      <td>5</td>\n",
       "      <td>984.156595</td>\n",
       "      <td>792.170237</td>\n",
       "      <td>Comprar</td>\n",
       "    </tr>\n",
       "    <tr>\n",
       "      <td>6</td>\n",
       "      <td>981.017015</td>\n",
       "      <td>949.149273</td>\n",
       "      <td>Comprar</td>\n",
       "    </tr>\n",
       "    <tr>\n",
       "      <td>7</td>\n",
       "      <td>1001.387310</td>\n",
       "      <td>-69.365487</td>\n",
       "      <td>Fabricar</td>\n",
       "    </tr>\n",
       "    <tr>\n",
       "      <td>8</td>\n",
       "      <td>1103.191157</td>\n",
       "      <td>-5159.557846</td>\n",
       "      <td>Fabricar</td>\n",
       "    </tr>\n",
       "    <tr>\n",
       "      <td>9</td>\n",
       "      <td>936.097335</td>\n",
       "      <td>3195.133256</td>\n",
       "      <td>Comprar</td>\n",
       "    </tr>\n",
       "    <tr>\n",
       "      <td>10</td>\n",
       "      <td>951.123254</td>\n",
       "      <td>2443.837280</td>\n",
       "      <td>Comprar</td>\n",
       "    </tr>\n",
       "    <tr>\n",
       "      <td>11</td>\n",
       "      <td>1045.461842</td>\n",
       "      <td>-2273.092095</td>\n",
       "      <td>Fabricar</td>\n",
       "    </tr>\n",
       "    <tr>\n",
       "      <td>12</td>\n",
       "      <td>1130.665574</td>\n",
       "      <td>-6533.278691</td>\n",
       "      <td>Fabricar</td>\n",
       "    </tr>\n",
       "    <tr>\n",
       "      <td>13</td>\n",
       "      <td>951.361810</td>\n",
       "      <td>2431.909507</td>\n",
       "      <td>Comprar</td>\n",
       "    </tr>\n",
       "    <tr>\n",
       "      <td>14</td>\n",
       "      <td>846.610639</td>\n",
       "      <td>7669.468053</td>\n",
       "      <td>Comprar</td>\n",
       "    </tr>\n",
       "    <tr>\n",
       "      <td>15</td>\n",
       "      <td>880.408331</td>\n",
       "      <td>5979.583468</td>\n",
       "      <td>Comprar</td>\n",
       "    </tr>\n",
       "    <tr>\n",
       "      <td>16</td>\n",
       "      <td>958.748590</td>\n",
       "      <td>2062.570484</td>\n",
       "      <td>Comprar</td>\n",
       "    </tr>\n",
       "    <tr>\n",
       "      <td>17</td>\n",
       "      <td>943.101920</td>\n",
       "      <td>2844.904009</td>\n",
       "      <td>Comprar</td>\n",
       "    </tr>\n",
       "    <tr>\n",
       "      <td>18</td>\n",
       "      <td>1022.582211</td>\n",
       "      <td>-1129.110566</td>\n",
       "      <td>Fabricar</td>\n",
       "    </tr>\n",
       "    <tr>\n",
       "      <td>19</td>\n",
       "      <td>837.505370</td>\n",
       "      <td>8124.731494</td>\n",
       "      <td>Comprar</td>\n",
       "    </tr>\n",
       "  </tbody>\n",
       "</table>\n",
       "</div>"
      ],
      "text/plain": [
       "        demanda   diferencia  decision\n",
       "0   1028.386249 -1419.312439  Fabricar\n",
       "1    831.059610  8447.019514   Comprar\n",
       "2    999.886962     5.651914   Comprar\n",
       "3   1028.655952 -1432.797581  Fabricar\n",
       "4   1038.140483 -1907.024146  Fabricar\n",
       "5    984.156595   792.170237   Comprar\n",
       "6    981.017015   949.149273   Comprar\n",
       "7   1001.387310   -69.365487  Fabricar\n",
       "8   1103.191157 -5159.557846  Fabricar\n",
       "9    936.097335  3195.133256   Comprar\n",
       "10   951.123254  2443.837280   Comprar\n",
       "11  1045.461842 -2273.092095  Fabricar\n",
       "12  1130.665574 -6533.278691  Fabricar\n",
       "13   951.361810  2431.909507   Comprar\n",
       "14   846.610639  7669.468053   Comprar\n",
       "15   880.408331  5979.583468   Comprar\n",
       "16   958.748590  2062.570484   Comprar\n",
       "17   943.101920  2844.904009   Comprar\n",
       "18  1022.582211 -1129.110566  Fabricar\n",
       "19   837.505370  8124.731494   Comprar"
      ]
     },
     "execution_count": 9,
     "metadata": {},
     "output_type": "execute_result"
    }
   ],
   "source": [
    "tabla = pd.DataFrame({'demanda': demanda, 'diferencia': dif_costo, 'decision': decision})\n",
    "tabla"
   ]
  },
  {
   "cell_type": "code",
   "execution_count": 10,
   "metadata": {},
   "outputs": [
    {
     "data": {
      "text/plain": [
       "<matplotlib.axes._subplots.AxesSubplot at 0x7fa4b9aa97b8>"
      ]
     },
     "execution_count": 10,
     "metadata": {},
     "output_type": "execute_result"
    },
    {
     "data": {
      "image/png": "[encoded data removed]",
      "text/plain": [
       "<Figure size 432x288 with 1 Axes>"
      ]
     },
     "metadata": {
      "needs_background": "light"
     },
     "output_type": "display_data"
    }
   ],
   "source": [
    "tabla.diferencia.hist()"
   ]
  },
  {
   "cell_type": "markdown",
   "metadata": {},
   "source": [
    "La gran ventaja de utilizar un DataFrame en lugar de una hoja de cálculo es que podemos realizar sin problema simulaciones para un gran número de intentos. Incluso varias simulaciones."
   ]
  },
  {
   "cell_type": "code",
   "execution_count": 11,
   "metadata": {},
   "outputs": [
    {
     "data": {
      "text/plain": [
       "<matplotlib.axes._subplots.AxesSubplot at 0x7fa4b787ad68>"
      ]
     },
     "execution_count": 11,
     "metadata": {},
     "output_type": "execute_result"
    },
    {
     "data": {
      "image/png": "[encoded data removed]",
      "text/plain": [
       "<Figure size 576x432 with 1 Axes>"
      ]
     },
     "metadata": {
      "needs_background": "light"
     },
     "output_type": "display_data"
    }
   ],
   "source": [
    "demanda = np.random.normal(loc=1000, scale=100, size=20000)\n",
    "dif_costo = costo_fijo + (costo_variable - costo_proveedor) * demanda\n",
    "decision = np.where(dif_costo > 0, 'Comprar', 'Fabricar')\n",
    "tabla = pd.DataFrame({'demanda': demanda, 'diferencia': dif_costo, 'decision': decision})\n",
    "tabla.diferencia.hist(bins=25, grid=False, figsize=(8,6), color='#86bf91', zorder=2, rwidth=0.9)"
   ]
  },
  {
   "cell_type": "markdown",
   "metadata": {},
   "source": [
    "Como era de esperarse, como la diferencia es normal ya que se obtiene de una combinación lineal de la demanda que es normal."
   ]
  },
  {
   "cell_type": "code",
   "execution_count": 12,
   "metadata": {},
   "outputs": [
    {
     "data": {
      "text/plain": [
       "Fabricar    10089\n",
       "Comprar      9911\n",
       "Name: decision, dtype: int64"
      ]
     },
     "execution_count": 12,
     "metadata": {},
     "output_type": "execute_result"
    }
   ],
   "source": [
    "tabla.decision.value_counts()"
   ]
  },
  {
   "cell_type": "code",
   "execution_count": 13,
   "metadata": {},
   "outputs": [
    {
     "data": {
      "text/plain": [
       "<matplotlib.axes._subplots.AxesSubplot at 0x7fa4b7790e80>"
      ]
     },
     "execution_count": 13,
     "metadata": {},
     "output_type": "execute_result"
    },
    {
     "data": {
      "image/png": "[encoded data removed]",
      "text/plain": [
       "<Figure size 432x288 with 1 Axes>"
      ]
     },
     "metadata": {
      "needs_background": "light"
     },
     "output_type": "display_data"
    }
   ],
   "source": [
    "tabla.decision.value_counts().plot(kind='bar')"
   ]
  }
 ],
 "metadata": {
  "kernelspec": {
   "display_name": "Python 3",
   "language": "python",
   "name": "python3"
  },
  "language_info": {
   "codemirror_mode": {
    "name": "ipython",
    "version": 3
   },
   "file_extension": ".py",
   "mimetype": "text/x-python",
   "name": "python",
   "nbconvert_exporter": "python",
   "pygments_lexer": "ipython3",
   "version": "3.7.3"
  }
 },
 "nbformat": 4,
 "nbformat_minor": 4
}
